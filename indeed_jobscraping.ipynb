{
 "cells": [
  {
   "cell_type": "code",
   "execution_count": 40,
   "id": "f10fac20",
   "metadata": {},
   "outputs": [],
   "source": [
    "import requests\n",
    "from bs4 import BeautifulSoup\n",
    "import pandas as pd"
   ]
  },
  {
   "cell_type": "code",
   "execution_count": 45,
   "id": "f2c4a2bc",
   "metadata": {},
   "outputs": [
    {
     "name": "stdout",
     "output_type": "stream",
     "text": [
      "Getting page, 0\n",
      "Getting page, 1\n",
      "Getting page, 2\n",
      "Getting page, 3\n",
      "Getting page, 4\n",
      "Getting page, 5\n",
      "Getting page, 6\n",
      "Getting page, 7\n",
      "Getting page, 8\n",
      "Getting page, 9\n",
      "Getting page, 10\n",
      "Getting page, 11\n",
      "Getting page, 12\n",
      "Getting page, 13\n",
      "Getting page, 14\n",
      "Getting page, 15\n",
      "Getting page, 16\n",
      "Getting page, 17\n",
      "Getting page, 18\n",
      "Getting page, 19\n",
      "Getting page, 20\n",
      "Getting page, 21\n",
      "Getting page, 22\n",
      "Getting page, 23\n",
      "Getting page, 24\n",
      "Getting page, 25\n",
      "Getting page, 26\n",
      "Getting page, 27\n",
      "Getting page, 28\n",
      "Getting page, 29\n",
      "Getting page, 30\n",
      "Getting page, 31\n",
      "Getting page, 32\n",
      "Getting page, 33\n",
      "Getting page, 34\n",
      "Getting page, 35\n",
      "Getting page, 36\n",
      "Getting page, 37\n",
      "Getting page, 38\n",
      "Getting page, 39\n",
      "                           title          company     location  \\\n",
      "0       Data Engineer (Konstanz)         KNIME AG                \n",
      "1  (Junior) Data analyst (m/f/x)  Zizooboats GmbH  Home Office   \n",
      "2                                 dentalXrai GmbH                \n",
      "3  Data Analyst (m/f/x) - Berlin        AVA & MAY                \n",
      "4    Data analyst Intern (m/f/x)  Zizooboats GmbH  Home Office   \n",
      "\n",
      "                                             summary  \n",
      "0  And of course, you will build KNIME workflows ...  \n",
      "1  Be a data advocate within the organization by ...  \n",
      "2  You are responsible for holistic reporting and...  \n",
      "3  Proactively ensure data quality and compliance...  \n",
      "4  Be a data advocate within the organization by ...  \n"
     ]
    }
   ],
   "source": [
    "def extract(page):\n",
    "    headers = {'User-Agent':'Mozilla/5.0'}\n",
    "    url=f'https://de.indeed.com/jobs?q=data&l=Deutschland&lang=en&start={page}'\n",
    "    r=requests.get(url,headers)\n",
    "    soup = BeautifulSoup(r.content,'html.parser')\n",
    "    return soup\n",
    "\n",
    "def transform(soup):\n",
    "    divs =soup.find_all('div',class_ = 'jobsearch-SerpJobCard')\n",
    "    for item in divs:\n",
    "        title = item.find('a').text.strip()\n",
    "        company = item.find('span',class_='company').text.strip()\n",
    "        try:\n",
    "            location = item.find('span',class_='location accessible-contrast-color-location').text.strip()\n",
    "        except:\n",
    "            location=''\n",
    "        summary = item.find('div',class_ ='summary').text.strip().replace('\\n','')\n",
    "        \n",
    "        job ={\n",
    "             'title': title,\n",
    "             'company': company,\n",
    "             'location': location,\n",
    "             'summary': summary\n",
    "        }\n",
    "        joblist.append(job)\n",
    "    return\n",
    "        \n",
    "joblist=[] \n",
    "\n",
    "for i in range(0,40):\n",
    "    print(f'Getting page, {i}')\n",
    "    c=extract(0)\n",
    "    transform(c)\n",
    "    \n",
    "#print(len(joblist))\n",
    "df = pd.DataFrame(joblist)\n",
    "print(df.head())\n",
    "df.to_csv('joblist.csv')"
   ]
  },
  {
   "cell_type": "code",
   "execution_count": 42,
   "id": "458d4c2e",
   "metadata": {},
   "outputs": [
    {
     "name": "stdout",
     "output_type": "stream",
     "text": [
      "[{'title': 'Sustainability Data Specialist', 'company': 'Boston Consulting Group', 'location': 'Berlin', 'summary': 'Excellent problem solving, data manipulation and presentation skills.Big data & advanced analytics, Sustainability, Technology & digital.'}, {'title': 'Data Engineer', 'company': 'Luxoft', 'location': 'Home Office', 'summary': 'Customer insights team are looking for 10 Data Engineers to lead the development, performance, quality and scaling of their data pipelines, with a special focus…'}, {'title': 'Data analyst Intern (m/f/x)', 'company': 'Zizooboats GmbH', 'location': 'Home Office', 'summary': 'Be a data advocate within the organization by empowering others to use data to make important decisions.Explore and analyze data and conduct deep dive analysis…'}, {'title': 'Jr Data Scientist', 'company': 'Quantum Brains', 'location': 'Berlin', 'summary': 'Improvement and testing of existing algorithms.Basic mathematical background (probability theory and mathematical statistics).'}, {'title': '(Junior) Data analyst (m/f/x)', 'company': 'Zizooboats GmbH', 'location': 'Home Office', 'summary': 'Be a data advocate within the organization by empowering others to use data to make important decisions.Explore and analyze data and conduct deep-dive analysis…'}, {'title': 'Data Scientist', 'company': 'Mapp Digital', 'location': 'Berlin', 'summary': 'Be responsible for the continuous optimization of data input and model output.To further our growth, we’re looking for a Data Scientist who will be responsible…'}, {'title': '(Junior) Data Scientist (m/f/d)', 'company': 'Statista', 'location': 'Hamburg', 'summary': 'Supporting the data ops team in various tasks including development of ETL processes and data pipelines.Contributing to design and developing the entirely new…'}, {'title': 'Trainee Data Analyst (all genders)', 'company': 'Goodgame Studios', 'location': 'Hamburg', 'summary': 'Learn how to carry out data analyses using statistical methods.High interest in working with data, good analytic knowledge.Passion for online games is a plus.'}, {'title': 'Junior Data Consultant', 'company': 'Artefact', 'location': 'Hamburg', 'summary': 'To develop and present data recommendations to clients,.To help build, formulate and present strategic data recommendations for the client,.'}, {'title': 'Data Analyst based in Munich (m/f/d)', 'company': 'Allianz Global Corporate & Specialty', 'location': 'München', 'summary': 'Gather data requirements from end users to facilitate development of solutions to satisfy data needs for data analysis and integrations.'}, {'title': 'Graduate Employment Opportunities - Germany 2021', 'company': 'Shell', 'location': 'Hamburg', 'summary': 'The Shell Graduate Programme is a development framework that enables new graduates to become fully independent Shell professionals in 3 years.'}, {'title': 'Data Journalist / Infographic Editorial Team (m/f/d)', 'company': 'Statista', 'location': 'Hamburg', 'summary': 'Experienced writer with a good feel for topics and an interest in data journalism and visualization.It consists of experienced data journalists and graphic…'}, {'title': 'Data Scientist', 'company': 'Scaleapi', 'location': 'Deutschland', 'summary': '3+ years of industry experience in product data science broadly.Influence product teams through the presentation of data-based recommendations.'}, {'title': 'Freelance Data Analysis Mentors/Tutors (f/m/d)', 'company': 'CareerFoundry GmbH', 'location': 'Home Office', 'summary': 'Data visualizations and data dashboards.Power Bi (data viz tool).Understanding how data relates to product requirements.'}, {'title': 'Data Scientist (m|f|d)', 'company': 'Sartorius', 'location': 'Göttingen', 'summary': 'Develop custom data models and algorithms to apply to data sets.Identify available and relevant data, including internal and external data sources.'}, {'title': 'Sustainability Data Specialist', 'company': 'Boston Consulting Group', 'location': 'Berlin', 'summary': 'Excellent problem solving, data manipulation and presentation skills.Big data & advanced analytics, Sustainability, Technology & digital.'}, {'title': 'Data Engineer', 'company': 'Luxoft', 'location': 'Home Office', 'summary': 'Customer insights team are looking for 10 Data Engineers to lead the development, performance, quality and scaling of their data pipelines, with a special focus…'}, {'title': 'Data analyst Intern (m/f/x)', 'company': 'Zizooboats GmbH', 'location': 'Home Office', 'summary': 'Be a data advocate within the organization by empowering others to use data to make important decisions.Explore and analyze data and conduct deep dive analysis…'}, {'title': 'Jr Data Scientist', 'company': 'Quantum Brains', 'location': 'Berlin', 'summary': 'Improvement and testing of existing algorithms.Basic mathematical background (probability theory and mathematical statistics).'}, {'title': '(Junior) Data analyst (m/f/x)', 'company': 'Zizooboats GmbH', 'location': 'Home Office', 'summary': 'Be a data advocate within the organization by empowering others to use data to make important decisions.Explore and analyze data and conduct deep-dive analysis…'}, {'title': 'Data Scientist', 'company': 'Mapp Digital', 'location': 'Berlin', 'summary': 'Be responsible for the continuous optimization of data input and model output.To further our growth, we’re looking for a Data Scientist who will be responsible…'}, {'title': '(Junior) Data Scientist (m/f/d)', 'company': 'Statista', 'location': 'Hamburg', 'summary': 'Supporting the data ops team in various tasks including development of ETL processes and data pipelines.Contributing to design and developing the entirely new…'}, {'title': 'Trainee Data Analyst (all genders)', 'company': 'Goodgame Studios', 'location': 'Hamburg', 'summary': 'Learn how to carry out data analyses using statistical methods.High interest in working with data, good analytic knowledge.Passion for online games is a plus.'}, {'title': 'Junior Data Consultant', 'company': 'Artefact', 'location': 'Hamburg', 'summary': 'To develop and present data recommendations to clients,.To help build, formulate and present strategic data recommendations for the client,.'}, {'title': 'Data Analyst based in Munich (m/f/d)', 'company': 'Allianz Global Corporate & Specialty', 'location': 'München', 'summary': 'Gather data requirements from end users to facilitate development of solutions to satisfy data needs for data analysis and integrations.'}, {'title': 'Graduate Employment Opportunities - Germany 2021', 'company': 'Shell', 'location': 'Hamburg', 'summary': 'The Shell Graduate Programme is a development framework that enables new graduates to become fully independent Shell professionals in 3 years.'}, {'title': 'Data Journalist / Infographic Editorial Team (m/f/d)', 'company': 'Statista', 'location': 'Hamburg', 'summary': 'Experienced writer with a good feel for topics and an interest in data journalism and visualization.It consists of experienced data journalists and graphic…'}, {'title': 'Data Scientist', 'company': 'Scaleapi', 'location': 'Deutschland', 'summary': '3+ years of industry experience in product data science broadly.Influence product teams through the presentation of data-based recommendations.'}, {'title': 'Freelance Data Analysis Mentors/Tutors (f/m/d)', 'company': 'CareerFoundry GmbH', 'location': 'Home Office', 'summary': 'Data visualizations and data dashboards.Power Bi (data viz tool).Understanding how data relates to product requirements.'}, {'title': 'Data Scientist (m|f|d)', 'company': 'Sartorius', 'location': 'Göttingen', 'summary': 'Develop custom data models and algorithms to apply to data sets.Identify available and relevant data, including internal and external data sources.'}]\n"
     ]
    }
   ],
   "source": [
    "print(joblist)"
   ]
  },
  {
   "cell_type": "code",
   "execution_count": null,
   "id": "33c1cc4f",
   "metadata": {},
   "outputs": [],
   "source": []
  }
 ],
 "metadata": {
  "kernelspec": {
   "display_name": "Python 3",
   "language": "python",
   "name": "python3"
  },
  "language_info": {
   "codemirror_mode": {
    "name": "ipython",
    "version": 3
   },
   "file_extension": ".py",
   "mimetype": "text/x-python",
   "name": "python",
   "nbconvert_exporter": "python",
   "pygments_lexer": "ipython3",
   "version": "3.8.8"
  }
 },
 "nbformat": 4,
 "nbformat_minor": 5
}
